{
 "cells": [
  {
   "cell_type": "code",
   "execution_count": 1,
   "id": "049859ff-f391-4855-9486-d511544cb8c2",
   "metadata": {},
   "outputs": [],
   "source": [
    "import scanpy as sc\n",
    "import anndata as ad"
   ]
  },
  {
   "cell_type": "code",
   "execution_count": 19,
   "id": "37227149-770e-4f56-8ddf-441027773ab0",
   "metadata": {},
   "outputs": [],
   "source": [
    "path = \"/mnt/shared/nationwide/Counts/NSG_BUS_1/outs/filtered_feature_bc_matrix.h5\""
   ]
  },
  {
   "cell_type": "code",
   "execution_count": 20,
   "id": "f8a6722b-fb09-46d7-ba9b-6183c56baf00",
   "metadata": {},
   "outputs": [],
   "source": [
    "mol_path = \"/mnt/shared/nationwide/Counts/NSG_BUS_1/outs/molecule_info.h5\""
   ]
  },
  {
   "cell_type": "code",
   "execution_count": 30,
   "id": "3e85a1ee-b308-4fae-93ea-aeed7e9e4ce2",
   "metadata": {},
   "outputs": [
    {
     "name": "stdout",
     "output_type": "stream",
     "text": [
      "Keys:  ['barcode_idx', 'barcode_info', 'barcodes', 'count', 'feature_idx', 'features', 'gem_group', 'library_idx', 'library_info', 'metrics_json', 'umi', 'umi_type']\n",
      "140858743\n",
      "(54442094,)\n"
     ]
    }
   ],
   "source": [
    "import h5py\n",
    "\n",
    "# Open the HDF5 file in read mode\n",
    "with h5py.File(mol_path, 'r') as file:\n",
    "    # Print the keys at the root level of the HDF5 file\n",
    "    print(\"Keys: \", list(file.keys()))\n",
    "\n",
    "    # Access datasets within the HDF5 file\n",
    "    dataset = file['count']  # Replace 'your_dataset' with the name of your dataset\n",
    "\n",
    "    # Read data from the dataset into a variable\n",
    "    data = dataset[()]  # This reads the entire dataset into a NumPy array\n",
    "\n",
    "    # Optionally, you can print or manipulate the data here\n",
    "    print(data.sum())\n",
    "    print(data.shape)\n"
   ]
  },
  {
   "cell_type": "code",
   "execution_count": 5,
   "id": "01531fed-30d4-454d-9bd8-f421c48ebbf9",
   "metadata": {},
   "outputs": [
    {
     "name": "stderr",
     "output_type": "stream",
     "text": [
      "/home/user/.conda/envs/python3.8/lib/python3.8/site-packages/anndata/_core/anndata.py:1840: UserWarning: Variable names are not unique. To make them unique, call `.var_names_make_unique`.\n",
      "  utils.warn_names_duplicates(\"var\")\n",
      "/home/user/.conda/envs/python3.8/lib/python3.8/site-packages/anndata/_core/anndata.py:1840: UserWarning: Variable names are not unique. To make them unique, call `.var_names_make_unique`.\n",
      "  utils.warn_names_duplicates(\"var\")\n"
     ]
    }
   ],
   "source": [
    "data = sc.read_10x_h5(path)"
   ]
  },
  {
   "cell_type": "code",
   "execution_count": null,
   "id": "7199c426-a39e-441b-b974-d901268a51d5",
   "metadata": {},
   "outputs": [],
   "source": []
  }
 ],
 "metadata": {
  "kernelspec": {
   "display_name": "python3.8",
   "language": "python",
   "name": "python3.8"
  },
  "language_info": {
   "codemirror_mode": {
    "name": "ipython",
    "version": 3
   },
   "file_extension": ".py",
   "mimetype": "text/x-python",
   "name": "python",
   "nbconvert_exporter": "python",
   "pygments_lexer": "ipython3",
   "version": "3.8.19"
  }
 },
 "nbformat": 4,
 "nbformat_minor": 5
}
