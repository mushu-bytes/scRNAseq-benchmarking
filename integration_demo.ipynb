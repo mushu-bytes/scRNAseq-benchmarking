{
 "cells": [
  {
   "cell_type": "code",
   "execution_count": 9,
   "id": "d0c4ea01-ad3f-46bf-ae01-62cb83be1312",
   "metadata": {},
   "outputs": [],
   "source": [
    "import scanpy as sc\n",
    "import anndata as ad\n",
    "from scprocessing.Pipeline import Pipeline\n",
    "from scprocessing.QC import QC\n",
    "from scprocessing.Normalization import Normalization\n",
    "from scprocessing.Integration import Integration\n",
    "from scprocessing.metrics import jaccard, silhouette, davies, calinski, evaluate\n",
    "from scprocessing.SelectPipeline import SelectPipeline\n",
    "import numpy as np\n",
    "import pandas as pd\n",
    "from typing import List\n",
    "from anndata import AnnData"
   ]
  },
  {
   "cell_type": "code",
   "execution_count": 3,
   "id": "85a1e2f3-6691-451a-a8a2-70bed73baf42",
   "metadata": {},
   "outputs": [],
   "source": [
    "%load_ext autoreload\n",
    "%autoreload 2"
   ]
  },
  {
   "cell_type": "markdown",
   "id": "5a0af10b-813d-4937-9bee-7d51603532c3",
   "metadata": {},
   "source": [
    "# Reading Datasets"
   ]
  },
  {
   "cell_type": "code",
   "execution_count": 4,
   "id": "06c3a50f-7099-4ce1-82ed-e2a0ee4e8768",
   "metadata": {},
   "outputs": [],
   "source": [
    "immune = sc.read_h5ad(\"/mnt/shared/nationwide/cell_type_datasets/human_brca_immune.h5ad\")\n",
    "immune.var_names_make_unique()\n",
    "immune.obs_names_make_unique()\n",
    "immune.obs[\"Type\"] = \"Immune\"\n",
    "immune.obs[\"Type\"] = immune.obs[\"Type\"].astype(\"category\")\n",
    "del immune.obsm[\"X_diffmap\"]"
   ]
  },
  {
   "cell_type": "code",
   "execution_count": 5,
   "id": "c82507cf-9cb0-43e7-8287-b6888c5ca48c",
   "metadata": {},
   "outputs": [],
   "source": [
    "def splitAD(dataset: AnnData, key: str) -> List[AnnData]:\n",
    "    \"\"\"\n",
    "    Parameters:\n",
    "        dataset: AnnData object\n",
    "        key: observation field to split the dataset into\n",
    "    Return:\n",
    "        List of anndata split by key\n",
    "    \"\"\"\n",
    "    unique_values = dataset.obs[key].unique()\n",
    "    subsets = []\n",
    "    \n",
    "    # Iterate over unique values and create subsets\n",
    "    for value in unique_values:\n",
    "        subsets.append(dataset[dataset.obs[key] == value].copy())\n",
    "    return subsets"
   ]
  },
  {
   "cell_type": "markdown",
   "id": "a0280de6-3e50-48dd-908d-fcb2698085c7",
   "metadata": {},
   "source": [
    "# Model Selection"
   ]
  },
  {
   "cell_type": "code",
   "execution_count": 6,
   "id": "2eaaf12b-5180-45a3-a3a6-2d302c39d624",
   "metadata": {},
   "outputs": [],
   "source": [
    "immune_data = splitAD(immune, \"tissue_condition\")[:5]\n",
    "select_immune = SelectPipeline(normalization=[\"seurat\", \"zheng17\"],\\\n",
    "                                  integration=[\"harmony\", \"scanorama\"],\\\n",
    "                                  metrics=[\"jaccard\", \"ari\", \"nmi\"],\n",
    "                                  resolution_range=[0.3],\n",
    "                               key=\"tissue_condition\"\n",
    "                                 )"
   ]
  },
  {
   "cell_type": "code",
   "execution_count": null,
   "id": "b6455904-fac7-45ba-a363-4cd0a12434c8",
   "metadata": {
    "scrolled": true
   },
   "outputs": [],
   "source": [
    "immune_res, report_immune, pipeline_immune = select_immune.search(immune_data, key_metric=\"ari\")"
   ]
  },
  {
   "cell_type": "code",
   "execution_count": 10,
   "id": "542013df-e6e3-4d26-be87-c8ba9bc4c47e",
   "metadata": {},
   "outputs": [],
   "source": [
    "final_df = []\n",
    "for key, cluster in select_immune.clusters.items():\n",
    "    init_df = pd.DataFrame(cluster.obsm['X_umap'], columns=['UMAP1', 'UMAP2'])\n",
    "    init_df[\"tissue_condition\"] = cluster.obs.tissue_condition.tolist()\n",
    "    init_df[\"Normalization\"] = key[0]\n",
    "    init_df[\"Integration\"] = key[1]\n",
    "    final_df.append(init_df)\n",
    "final_df = pd.concat(final_df)"
   ]
  },
  {
   "cell_type": "code",
   "execution_count": null,
   "id": "f74411ad-da84-4d2f-8b25-09b6e286b4fc",
   "metadata": {},
   "outputs": [],
   "source": [
    "# this cell just filters the final_df\n",
    "filtered_df = final_df[final_df[\"Integration\"] != \"merge\"]\n",
    "all_cells = []\n",
    "for condition in filtered_df[\"tissue_condition\"].unique():\n",
    "    all_cells.append(filtered_df[filtered_df[\"tissue_condition\"] == condition])\n",
    "filtered_df = pd.concat(all_cells)\n",
    "filtered_df"
   ]
  },
  {
   "cell_type": "code",
   "execution_count": 13,
   "id": "5cec43e0-c2a0-4bdd-8608-11fd7531ed9d",
   "metadata": {},
   "outputs": [],
   "source": [
    "import altair as alt\n",
    "import pandas as pd\n",
    "alt.data_transformers.enable(\"vegafusion\")\n",
    "\n",
    "high_contrast_colors = ['#e6194b', '#3cb44b', '#ffe119', '#4363d8', '#f58231']\n",
    "\n",
    "umap_chart = alt.Chart(filtered_df).mark_point(size=1.5).encode(\n",
    "    x=\"UMAP1\",\n",
    "    y=\"UMAP2\",\n",
    "    color=alt.Color(\"tissue_condition\").scale(range=high_contrast_colors)\n",
    ")\n",
    "\n",
    "facet_grid = umap_chart.facet(\n",
    "    row=\"Normalization\",\n",
    "    column=\"Integration\",\n",
    "    title='UMAP plots for Different Combinations of Normalization and Integration Methods'\n",
    ")\n",
    "facet_grid = facet_grid.configure_axis(\n",
    "    grid=False,\n",
    "    labelFontSize=18,\n",
    "    titleFontSize=18,\n",
    "    tickSize=2\n",
    ")\n",
    "\n",
    "facet_grid = facet_grid.configure_header(\n",
    "    labelFontSize=18,\n",
    "    titleFontSize=18\n",
    ")\n",
    "\n",
    "facet_grid = facet_grid.configure_headerRow(\n",
    "    labelFontSize=18,\n",
    "    titleFontSize=18\n",
    ")\n",
    "\n",
    "facet_grid = facet_grid.configure_headerColumn(\n",
    "    labelFontSize=18,\n",
    "    titleFontSize=18\n",
    ")\n",
    "\n",
    "facet_grid = facet_grid.configure_legend(\n",
    "    titleFontSize=18,\n",
    "    labelFontSize=16\n",
    ")\n",
    "\n",
    "facet_grid.save(\"hbca.png\", scale_factor=5.0)"
   ]
  }
 ],
 "metadata": {
  "kernelspec": {
   "display_name": "python3.8",
   "language": "python",
   "name": "python3"
  },
  "language_info": {
   "codemirror_mode": {
    "name": "ipython",
    "version": 3
   },
   "file_extension": ".py",
   "mimetype": "text/x-python",
   "name": "python",
   "nbconvert_exporter": "python",
   "pygments_lexer": "ipython3",
   "version": "3.10.14"
  }
 },
 "nbformat": 4,
 "nbformat_minor": 5
}
