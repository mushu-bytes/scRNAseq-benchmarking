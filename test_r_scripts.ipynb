{
 "cells": [
  {
   "cell_type": "code",
   "execution_count": 1,
   "id": "925534e3-148e-4421-bff5-78a192c88b8d",
   "metadata": {},
   "outputs": [],
   "source": [
    "import scanpy as sc\n",
    "import anndata as ad\n",
    "from scprocessing.Pipeline import Pipeline\n",
    "from scprocessing.QC import QC\n",
    "from scprocessing.Normalization import Normalization\n",
    "from scprocessing.Integration import Integration\n",
    "from scprocessing.metrics import jaccard, silhouette, davies, calinski, evaluate\n",
    "from scprocessing.SelectPipeline import SelectPipeline"
   ]
  },
  {
   "cell_type": "code",
   "execution_count": 2,
   "id": "93e22405-71ab-4f2d-8ea3-41e0ac9c93f6",
   "metadata": {},
   "outputs": [],
   "source": [
    "%load_ext autoreload\n",
    "%autoreload 2"
   ]
  },
  {
   "cell_type": "code",
   "execution_count": 3,
   "id": "19381427-ec0f-43ba-aa3c-dacffa3a1a77",
   "metadata": {},
   "outputs": [
    {
     "name": "stderr",
     "output_type": "stream",
     "text": [
      "/tmp/ipykernel_18612/225481395.py:3: DeprecationWarning: The global conversion available with activate() is deprecated and will be removed in the next major release. Use a local converter.\n",
      "  anndata2ri.activate()\n"
     ]
    }
   ],
   "source": [
    "import rpy2.robjects as ro\n",
    "import anndata2ri\n",
    "anndata2ri.activate()"
   ]
  },
  {
   "cell_type": "code",
   "execution_count": 4,
   "id": "2e544ea8-6641-4de6-9600-376f6a7d09dc",
   "metadata": {
    "jupyter": {
     "source_hidden": true
    }
   },
   "outputs": [],
   "source": [
    "# paths\n",
    "nsg_bus_1 = \"/mnt/shared/nationwide/Counts/NSG_BUS_1/outs/filtered_feature_bc_matrix.h5\"\n",
    "nsg_bus_2 = \"/mnt/shared/nationwide/Counts/NSG_BUS_2/outs/filtered_feature_bc_matrix.h5\"\n",
    "nsg_bus_3 = \"/mnt/shared/nationwide/Counts/NSG_BUS_3/outs/filtered_feature_bc_matrix.h5\"\n",
    "\n",
    "nsg_ctl_1 = \"/mnt/shared/nationwide/Counts/NSG_CNTL_1/outs/filtered_feature_bc_matrix.h5\"\n",
    "nsg_ctl_2 = \"/mnt/shared/nationwide/Counts/NSG_CNTL_2/outs/filtered_feature_bc_matrix.h5\"\n",
    "nsg_ctl_3 = \"/mnt/shared/nationwide/Counts/NSG_CNTL_3/outs/filtered_feature_bc_matrix.h5\"\n",
    "\n",
    "nsg_s_bus_1 = \"/mnt/shared/nationwide/Counts/NSG_S_BUS_1/outs/filtered_feature_bc_matrix.h5\"\n",
    "nsg_s_bus_2 = \"/mnt/shared/nationwide/Counts/NSG_S_BUS_2/outs/filtered_feature_bc_matrix.h5\"\n",
    "nsg_s_bus_3 = \"/mnt/shared/nationwide/Counts/NSG_S_BUS_3/outs/filtered_feature_bc_matrix.h5\"\n",
    "\n",
    "nsg_s_ctl_1 = \"/mnt/shared/nationwide/Counts/NSG_S_CNTL_1/outs/filtered_feature_bc_matrix.h5\"\n",
    "nsg_s_ctl_2 = \"/mnt/shared/nationwide/Counts/NSG_S_CNTL_2/outs/filtered_feature_bc_matrix.h5\"\n",
    "nsg_s_ctl_3 = \"/mnt/shared/nationwide/Counts/NSG_S_CNTL_3/outs/filtered_feature_bc_matrix.h5\""
   ]
  },
  {
   "cell_type": "code",
   "execution_count": 5,
   "id": "44d25ae6-c71b-42cb-bfd1-63e5f5e68757",
   "metadata": {
    "jupyter": {
     "source_hidden": true
    }
   },
   "outputs": [
    {
     "name": "stderr",
     "output_type": "stream",
     "text": [
      "/home/user/.conda/envs/python3.8/lib/python3.10/site-packages/anndata/_core/anndata.py:1820: UserWarning: Variable names are not unique. To make them unique, call `.var_names_make_unique`.\n",
      "  utils.warn_names_duplicates(\"var\")\n",
      "/home/user/.conda/envs/python3.8/lib/python3.10/site-packages/anndata/_core/anndata.py:1820: UserWarning: Variable names are not unique. To make them unique, call `.var_names_make_unique`.\n",
      "  utils.warn_names_duplicates(\"var\")\n",
      "/home/user/.conda/envs/python3.8/lib/python3.10/site-packages/anndata/_core/anndata.py:1820: UserWarning: Variable names are not unique. To make them unique, call `.var_names_make_unique`.\n",
      "  utils.warn_names_duplicates(\"var\")\n",
      "/home/user/.conda/envs/python3.8/lib/python3.10/site-packages/anndata/_core/anndata.py:1820: UserWarning: Variable names are not unique. To make them unique, call `.var_names_make_unique`.\n",
      "  utils.warn_names_duplicates(\"var\")\n",
      "/home/user/.conda/envs/python3.8/lib/python3.10/site-packages/anndata/_core/anndata.py:1820: UserWarning: Variable names are not unique. To make them unique, call `.var_names_make_unique`.\n",
      "  utils.warn_names_duplicates(\"var\")\n",
      "/home/user/.conda/envs/python3.8/lib/python3.10/site-packages/anndata/_core/anndata.py:1820: UserWarning: Variable names are not unique. To make them unique, call `.var_names_make_unique`.\n",
      "  utils.warn_names_duplicates(\"var\")\n"
     ]
    }
   ],
   "source": [
    "# read data\n",
    "nsg_bus_1_data = sc.read_10x_h5(nsg_bus_1)\n",
    "nsg_bus_2_data = sc.read_10x_h5(nsg_bus_2)\n",
    "nsg_bus_3_data = sc.read_10x_h5(nsg_bus_3)\n",
    "\n",
    "# creating metadata\n",
    "nsg_bus_1_data.obs[\"Trial\"] = \"1\"\n",
    "nsg_bus_2_data.obs[\"Trial\"] = \"2\"\n",
    "nsg_bus_3_data.obs[\"Trial\"] = \"3\"\n",
    "\n",
    "# making names unique\n",
    "nsg_bus_1_data.var_names_make_unique()\n",
    "nsg_bus_2_data.var_names_make_unique()\n",
    "nsg_bus_3_data.var_names_make_unique()\n",
    "\n",
    "nsg_bus_1_data.obs_names_make_unique()\n",
    "nsg_bus_2_data.obs_names_make_unique()\n",
    "nsg_bus_3_data.obs_names_make_unique()\n",
    "\n",
    "# nsg_bus_1_data = qc(nsg_bus_1_data)\n",
    "# nsg_bus_2_data = qc(nsg_bus_2_data)\n",
    "# nsg_bus_3_data = qc(nsg_bus_3_data)"
   ]
  },
  {
   "cell_type": "code",
   "execution_count": 6,
   "id": "22b3fcbe-e199-4529-a3af-a5ea857a9cb2",
   "metadata": {},
   "outputs": [],
   "source": [
    "human_brca_immune = sc.read_h5ad(\"/mnt/shared/nationwide/cell_type_datasets/human_brca_immune.h5ad\")\n",
    "human_brca_immune.var_names_make_unique()\n",
    "human_brca_immune.obs_names_make_unique()\n",
    "del human_brca_immune.obsm[\"X_diffmap\"]\n",
    "human_brca_immune.var.drop(\"feature_length\", axis=1, inplace=True)"
   ]
  },
  {
   "cell_type": "code",
   "execution_count": 7,
   "id": "78a0b39c-7b18-435d-8209-894548d937f3",
   "metadata": {},
   "outputs": [
    {
     "name": "stderr",
     "output_type": "stream",
     "text": [
      "/tmp/ipykernel_18612/4216058113.py:12: ImplicitModificationWarning: Trying to modify attribute `.obs` of view, initializing view as actual.\n",
      "  brca_group_1.obs[\"Type\"] = cond1\n",
      "/tmp/ipykernel_18612/4216058113.py:13: ImplicitModificationWarning: Trying to modify attribute `.obs` of view, initializing view as actual.\n",
      "  brca_group_2.obs[\"Type\"] = cond2\n",
      "/tmp/ipykernel_18612/4216058113.py:14: ImplicitModificationWarning: Trying to modify attribute `.obs` of view, initializing view as actual.\n",
      "  brca_group_3.obs[\"Type\"] = cond3\n",
      "/tmp/ipykernel_18612/4216058113.py:15: ImplicitModificationWarning: Trying to modify attribute `.obs` of view, initializing view as actual.\n",
      "  brca_group_4.obs[\"Type\"] = cond4\n",
      "/tmp/ipykernel_18612/4216058113.py:16: ImplicitModificationWarning: Trying to modify attribute `.obs` of view, initializing view as actual.\n",
      "  brca_group_5.obs[\"Type\"] = cond5\n"
     ]
    }
   ],
   "source": [
    "cond1 = \"30-year-old human stage\"\n",
    "cond2 = \"31-year-old human stage\"\n",
    "cond3 = \"33-year-old human stage\"\n",
    "cond4 = \"37-year-old human stage\"\n",
    "cond5 = \"39-year-old human stage\"\n",
    "brca_group_1 = human_brca_immune[human_brca_immune.obs[\"development_stage\"] == cond1]\n",
    "brca_group_2 = human_brca_immune[human_brca_immune.obs[\"development_stage\"] == cond2]\n",
    "brca_group_3 = human_brca_immune[human_brca_immune.obs[\"development_stage\"] == cond3]\n",
    "brca_group_4 = human_brca_immune[human_brca_immune.obs[\"development_stage\"] == cond4]\n",
    "brca_group_5 = human_brca_immune[human_brca_immune.obs[\"development_stage\"] == cond5]\n",
    "\n",
    "brca_group_1.obs[\"Type\"] = cond1\n",
    "brca_group_2.obs[\"Type\"] = cond2\n",
    "brca_group_3.obs[\"Type\"] = cond3\n",
    "brca_group_4.obs[\"Type\"] = cond4\n",
    "brca_group_5.obs[\"Type\"] = cond5\n",
    "\n",
    "brca_group_1.obs[\"Type\"] = brca_group_1.obs[\"Type\"].astype(\"category\")\n",
    "brca_group_2.obs[\"Type\"] = brca_group_2.obs[\"Type\"].astype(\"category\")\n",
    "brca_group_3.obs[\"Type\"] = brca_group_3.obs[\"Type\"].astype(\"category\")\n",
    "brca_group_4.obs[\"Type\"] = brca_group_4.obs[\"Type\"].astype(\"category\")\n",
    "brca_group_5.obs[\"Type\"] = brca_group_5.obs[\"Type\"].astype(\"category\")"
   ]
  },
  {
   "cell_type": "code",
   "execution_count": 8,
   "id": "bcde5132-1244-45a9-a9bd-ec345906c79c",
   "metadata": {
    "jupyter": {
     "source_hidden": true
    }
   },
   "outputs": [],
   "source": [
    "def find_non_string_categorical_columns(adata):\n",
    "    non_string_categorical_obs = []\n",
    "    non_string_categorical_var = []\n",
    "\n",
    "    # Check .obs\n",
    "    for column in adata.obs.columns:\n",
    "        if adata.obs[column].dtype.name == 'category' and not all(isinstance(x, str) for x in adata.obs[column].cat.categories):\n",
    "            non_string_categorical_obs.append(column)\n",
    "\n",
    "    # Check .var\n",
    "    for column in adata.var.columns:\n",
    "        if adata.var[column].dtype.name == 'category' and not all(isinstance(x, str) for x in adata.var[column].cat.categories):\n",
    "            non_string_categorical_var.append(column)\n",
    "\n",
    "    return non_string_categorical_obs, non_string_categorical_var"
   ]
  },
  {
   "cell_type": "code",
   "execution_count": 9,
   "id": "0c038a1c-2934-472c-9590-e144cbfac20e",
   "metadata": {
    "scrolled": true
   },
   "outputs": [
    {
     "name": "stderr",
     "output_type": "stream",
     "text": [
      "/home/user/.conda/envs/python3.8/lib/python3.10/site-packages/rpy2/robjects/conversion.py:28: DeprecationWarning: The use of py2rpy in module rpy2.robjects.conversion is deprecated. Use rpy2.robjects.conversion.get_conversion() instead of rpy2.robjects.conversion.converter.\n",
      "  warnings.warn(\n",
      "R[write to console]: Loading required package: SeuratObject\n",
      "\n",
      "R[write to console]: Loading required package: sp\n",
      "\n",
      "R[write to console]: \n",
      "Attaching package: ‘sp’\n",
      "\n",
      "\n",
      "R[write to console]: The following object is masked from ‘package:IRanges’:\n",
      "\n",
      "    %over%\n",
      "\n",
      "\n",
      "R[write to console]: \n",
      "Attaching package: ‘SeuratObject’\n",
      "\n",
      "\n",
      "R[write to console]: The following object is masked from ‘package:SummarizedExperiment’:\n",
      "\n",
      "    Assays\n",
      "\n",
      "\n",
      "R[write to console]: The following object is masked from ‘package:GenomicRanges’:\n",
      "\n",
      "    intersect\n",
      "\n",
      "\n",
      "R[write to console]: The following object is masked from ‘package:GenomeInfoDb’:\n",
      "\n",
      "    intersect\n",
      "\n",
      "\n",
      "R[write to console]: The following object is masked from ‘package:IRanges’:\n",
      "\n",
      "    intersect\n",
      "\n",
      "\n",
      "R[write to console]: The following object is masked from ‘package:S4Vectors’:\n",
      "\n",
      "    intersect\n",
      "\n",
      "\n",
      "R[write to console]: The following object is masked from ‘package:BiocGenerics’:\n",
      "\n",
      "    intersect\n",
      "\n",
      "\n",
      "R[write to console]: The following object is masked from ‘package:base’:\n",
      "\n",
      "    intersect\n",
      "\n",
      "\n"
     ]
    },
    {
     "name": "stdout",
     "output_type": "stream",
     "text": [
      "\n",
      "    WARNING: The R package \"reticulate\" only fixed recently\n",
      "    an issue that caused a segfault when used with rpy2:\n",
      "    https://github.com/rstudio/reticulate/pull/1188\n",
      "    Make sure that you use a version of that package that includes\n",
      "    the fix.\n",
      "    "
     ]
    },
    {
     "name": "stderr",
     "output_type": "stream",
     "text": [
      "R[write to console]: \n",
      "Attaching package: ‘Seurat’\n",
      "\n",
      "\n",
      "R[write to console]: The following object is masked from ‘package:SummarizedExperiment’:\n",
      "\n",
      "    Assays\n",
      "\n",
      "\n",
      "R[write to console]: In addition: \n",
      "R[write to console]: Warning messages:\n",
      "\n",
      "R[write to console]: 1: \n",
      "R[write to console]: In (function (package, help, pos = 2, lib.loc = NULL, character.only = FALSE,  :\n",
      "R[write to console]: \n",
      " \n",
      "R[write to console]:  libraries ‘/usr/local/lib/R/site-library’, ‘/usr/lib/R/site-library’ contain no packages\n",
      "\n",
      "R[write to console]: 2: \n",
      "R[write to console]: In (function (package, help, pos = 2, lib.loc = NULL, character.only = FALSE,  :\n",
      "R[write to console]: \n",
      " \n",
      "R[write to console]:  libraries ‘/usr/local/lib/R/site-library’, ‘/usr/lib/R/site-library’ contain no packages\n",
      "\n",
      "R[write to console]: 3: \n",
      "R[write to console]: In (function (package, help, pos = 2, lib.loc = NULL, character.only = FALSE,  :\n",
      "R[write to console]: \n",
      " \n",
      "R[write to console]:  libraries ‘/usr/local/lib/R/site-library’, ‘/usr/lib/R/site-library’ contain no packages\n",
      "\n",
      "R[write to console]: 4: \n",
      "R[write to console]: In (function (package, help, pos = 2, lib.loc = NULL, character.only = FALSE,  :\n",
      "R[write to console]: \n",
      " \n",
      "R[write to console]:  libraries ‘/usr/local/lib/R/site-library’, ‘/usr/lib/R/site-library’ contain no packages\n",
      "\n",
      "R[write to console]: Loading required package: ggraph\n",
      "\n",
      "R[write to console]: Loading required package: ggplot2\n",
      "\n",
      "R[write to console]: \n",
      "Attaching package: ‘ggplot2’\n",
      "\n",
      "\n",
      "R[write to console]: The following object is masked from ‘package:glmGamPoi’:\n",
      "\n",
      "    vars\n",
      "\n",
      "\n",
      "R[write to console]: \n",
      "Attaching package: ‘ggraph’\n",
      "\n",
      "\n",
      "R[write to console]: The following object is masked from ‘package:sp’:\n",
      "\n",
      "    geometry\n",
      "\n",
      "\n"
     ]
    }
   ],
   "source": [
    "ro.globalenv[\"adata\"] = human_brca_immune\n",
    "ro.r(\"library(Seurat)\")\n",
    "ro.r(\"library(SeuratObject)\")\n",
    "ro.r(\"library(sctransform)\")\n",
    "ro.r(\"library(SeuratData)\")\n",
    "ro.r(\"library(glmGamPoi)\")\n",
    "ro.r(\"library(clustree)\")\n",
    "ro.r(\"library(ggplot2)\")"
   ]
  },
  {
   "cell_type": "code",
   "execution_count": 10,
   "id": "4cb8b3e5-0ed9-4e59-b9d0-857ba1322a1b",
   "metadata": {},
   "outputs": [
    {
     "name": "stderr",
     "output_type": "stream",
     "text": [
      "R[write to console]: Warning:\n",
      "R[write to console]:  Keys should be one or more alphanumeric characters followed by an underscore, setting key from X_scVI_ to XscVI_\n",
      "\n"
     ]
    }
   ],
   "source": [
    "ro.r(\"data <- as.Seurat(adata, counts='X', data=NULL)\")"
   ]
  },
  {
   "cell_type": "code",
   "execution_count": 11,
   "id": "6781e18e-bd19-4067-b0c9-dbefb008173b",
   "metadata": {},
   "outputs": [],
   "source": [
    "ro.r(\"data.list = SplitObject(data, split.by='development_stage')\")"
   ]
  },
  {
   "cell_type": "code",
   "execution_count": 12,
   "id": "cd82352b-abb8-478b-a327-ea8a839e1c6d",
   "metadata": {},
   "outputs": [],
   "source": [
    "ro.r(\"target_data = list(data.list$`31-year-old human stage`, data.list$`30-year-old human stage`)\")"
   ]
  },
  {
   "cell_type": "code",
   "execution_count": 13,
   "id": "11e42ffa-f6a1-43af-9b25-0119d1e57e87",
   "metadata": {
    "scrolled": true
   },
   "outputs": [
    {
     "name": "stderr",
     "output_type": "stream",
     "text": [
      "R[write to console]: Running SCTransform on assay: originalexp\n",
      "\n",
      "R[write to console]: vst.flavor='v2' set. Using model with fixed slope and excluding poisson genes.\n",
      "\n",
      "R[write to console]: Calculating cell attributes from input UMI matrix: log_umi\n",
      "\n",
      "R[write to console]: Variance stabilizing transformation of count matrix of size 13249 by 1511\n",
      "\n",
      "R[write to console]: Model formula is y ~ log_umi\n",
      "\n",
      "R[write to console]: Get Negative Binomial regression parameters per gene\n",
      "\n",
      "R[write to console]: Using 2000 genes, 1511 cells\n",
      "\n",
      "R[write to console]: Found 3 outliers - those will be ignored in fitting/regularization step\n",
      "\n",
      "\n",
      "R[write to console]: Second step: Get residuals using fitted parameters for 13249 genes\n",
      "\n",
      "R[write to console]: Computing corrected count matrix for 13249 genes\n",
      "\n",
      "R[write to console]: Calculating gene attributes\n",
      "\n",
      "R[write to console]: Wall clock passed: Time difference of 7.785311 secs\n",
      "\n",
      "R[write to console]: Determine variable features\n",
      "\n",
      "R[write to console]: Centering data matrix\n",
      "\n",
      "  |                                                                            \n",
      "  |                                                                      |   0%\n",
      "  |                                                                            \n",
      "  |==================                                                    |  25%\n",
      "  |                                                                            \n",
      "  |===================================                                   |  50%\n",
      "  |                                                                            \n",
      "  |====================================================                  |  75%\n",
      "  |                                                                            \n",
      "  |======================================================================| 100%\n",
      "R[write to console]: \n",
      "\n",
      "R[write to console]: Place corrected count matrix in counts slot\n",
      "\n",
      "R[write to console]: Set default assay to SCT\n",
      "\n",
      "R[write to console]: Running SCTransform on assay: originalexp\n",
      "\n",
      "R[write to console]: vst.flavor='v2' set. Using model with fixed slope and excluding poisson genes.\n",
      "\n",
      "R[write to console]: Calculating cell attributes from input UMI matrix: log_umi\n",
      "\n",
      "R[write to console]: Variance stabilizing transformation of count matrix of size 12008 by 977\n",
      "\n",
      "R[write to console]: Model formula is y ~ log_umi\n",
      "\n",
      "R[write to console]: Get Negative Binomial regression parameters per gene\n",
      "\n",
      "R[write to console]: Using 2000 genes, 977 cells\n",
      "\n",
      "R[write to console]: Found 2 outliers - those will be ignored in fitting/regularization step\n",
      "\n",
      "\n",
      "R[write to console]: Second step: Get residuals using fitted parameters for 12008 genes\n",
      "\n",
      "R[write to console]: Computing corrected count matrix for 12008 genes\n",
      "\n",
      "R[write to console]: Calculating gene attributes\n",
      "\n",
      "R[write to console]: Wall clock passed: Time difference of 4.053338 secs\n",
      "\n",
      "R[write to console]: Determine variable features\n",
      "\n",
      "R[write to console]: Centering data matrix\n",
      "\n",
      "  |                                                                            \n",
      "  |                                                                      |   0%\n",
      "  |                                                                            \n",
      "  |==================                                                    |  25%\n",
      "  |                                                                            \n",
      "  |===================================                                   |  50%\n",
      "  |                                                                            \n",
      "  |====================================================                  |  75%\n",
      "  |                                                                            \n",
      "  |======================================================================| 100%\n",
      "R[write to console]: \n",
      "\n",
      "R[write to console]: Place corrected count matrix in counts slot\n",
      "\n",
      "R[write to console]: Set default assay to SCT\n",
      "\n"
     ]
    }
   ],
   "source": [
    "ro.r(\"target_data <- lapply(target_data, function(x) SCTransform(x, assay='originalexp', method='glmGamPoi'))\")"
   ]
  },
  {
   "cell_type": "code",
   "execution_count": 14,
   "id": "7a371ed3-ac70-4583-bd6e-8ed86629b9b7",
   "metadata": {},
   "outputs": [],
   "source": [
    "ro.r(\"features <- SelectIntegrationFeatures(object.list = target_data, nfeatures = 3000)\")"
   ]
  },
  {
   "cell_type": "code",
   "execution_count": 15,
   "id": "f5e35d8b-6e98-451a-bdd4-4cdb1618d03e",
   "metadata": {
    "scrolled": true
   },
   "outputs": [
    {
     "name": "stdout",
     "output_type": "stream",
     "text": [
      "[1] 4533000\n"
     ]
    }
   ],
   "source": [
    "ro.r(\"print(length(target_data[[1]][['SCT']]$scale.data))\")"
   ]
  },
  {
   "cell_type": "code",
   "execution_count": 17,
   "id": "a544efa3-1405-4bc8-a1e4-aeca00a62f65",
   "metadata": {
    "scrolled": true
   },
   "outputs": [
    {
     "name": "stdout",
     "output_type": "stream",
     "text": [
      "[1] 3000\n"
     ]
    }
   ],
   "source": [
    "ro.r(\"print(length(features))\")"
   ]
  },
  {
   "cell_type": "code",
   "execution_count": 39,
   "id": "95881a53-a425-45b9-8092-38aaed708dde",
   "metadata": {},
   "outputs": [
    {
     "name": "stdout",
     "output_type": "stream",
     "text": [
      "  |                                                  | 0 % ~calculating  "
     ]
    },
    {
     "name": "stderr",
     "output_type": "stream",
     "text": [
      "R[write to console]: Error in scale.data[anchor.features, ] : subscript out of bounds\n",
      "\n"
     ]
    },
    {
     "name": "stdout",
     "output_type": "stream",
     "text": [
      "\n"
     ]
    },
    {
     "ename": "RRuntimeError",
     "evalue": "Error in scale.data[anchor.features, ] : subscript out of bounds\n",
     "output_type": "error",
     "traceback": [
      "\u001b[0;31m---------------------------------------------------------------------------\u001b[0m",
      "\u001b[0;31mRRuntimeError\u001b[0m                             Traceback (most recent call last)",
      "Cell \u001b[0;32mIn[39], line 1\u001b[0m\n\u001b[0;32m----> 1\u001b[0m \u001b[43mro\u001b[49m\u001b[38;5;241;43m.\u001b[39;49m\u001b[43mr\u001b[49m\u001b[43m(\u001b[49m\u001b[38;5;124;43m\"\u001b[39;49m\u001b[38;5;124;43mtarget_data <- PrepSCTIntegration(object.list = target_data, assay=\u001b[39;49m\u001b[38;5;124;43m'\u001b[39;49m\u001b[38;5;124;43mSCT\u001b[39;49m\u001b[38;5;124;43m'\u001b[39;49m\u001b[38;5;124;43m, anchor.features = features)\u001b[39;49m\u001b[38;5;124;43m\"\u001b[39;49m\u001b[43m)\u001b[49m\n",
      "File \u001b[0;32m~/.conda/envs/python3.8/lib/python3.10/site-packages/rpy2/robjects/__init__.py:509\u001b[0m, in \u001b[0;36mR.__call__\u001b[0;34m(self, string, invisible, print_r_warnings)\u001b[0m\n\u001b[1;32m    507\u001b[0m     invisible \u001b[38;5;241m=\u001b[39m \u001b[38;5;28mself\u001b[39m\u001b[38;5;241m.\u001b[39m_invisible\n\u001b[1;32m    508\u001b[0m \u001b[38;5;28;01mif\u001b[39;00m invisible:\n\u001b[0;32m--> 509\u001b[0m     res, visible \u001b[38;5;241m=\u001b[39m \u001b[43mrinterface\u001b[49m\u001b[38;5;241;43m.\u001b[39;49m\u001b[43mevalr_expr_with_visible\u001b[49m\u001b[43m(\u001b[49m\u001b[43m   \u001b[49m\u001b[38;5;66;43;03m# type: ignore\u001b[39;49;00m\n\u001b[1;32m    510\u001b[0m \u001b[43m        \u001b[49m\u001b[43mr_expr\u001b[49m\n\u001b[1;32m    511\u001b[0m \u001b[43m    \u001b[49m\u001b[43m)\u001b[49m\n\u001b[1;32m    512\u001b[0m     \u001b[38;5;28;01mif\u001b[39;00m \u001b[38;5;129;01mnot\u001b[39;00m visible[\u001b[38;5;241m0\u001b[39m]:  \u001b[38;5;66;03m# type: ignore\u001b[39;00m\n\u001b[1;32m    513\u001b[0m         res \u001b[38;5;241m=\u001b[39m \u001b[38;5;28;01mNone\u001b[39;00m\n",
      "File \u001b[0;32m~/.conda/envs/python3.8/lib/python3.10/site-packages/rpy2/rinterface.py:192\u001b[0m, in \u001b[0;36mevalr_expr_with_visible\u001b[0;34m(expr, envir)\u001b[0m\n\u001b[1;32m    185\u001b[0m r_res \u001b[38;5;241m=\u001b[39m rmemory\u001b[38;5;241m.\u001b[39mprotect(\n\u001b[1;32m    186\u001b[0m         openrlib\u001b[38;5;241m.\u001b[39mrlib\u001b[38;5;241m.\u001b[39mR_tryEval(\n\u001b[1;32m    187\u001b[0m             r_call,\n\u001b[1;32m    188\u001b[0m             envir\u001b[38;5;241m.\u001b[39m__sexp__\u001b[38;5;241m.\u001b[39m_cdata,  \u001b[38;5;66;03m# call context.\u001b[39;00m\n\u001b[1;32m    189\u001b[0m             error_occured)\n\u001b[1;32m    190\u001b[0m )\n\u001b[1;32m    191\u001b[0m \u001b[38;5;28;01mif\u001b[39;00m error_occured[\u001b[38;5;241m0\u001b[39m]:\n\u001b[0;32m--> 192\u001b[0m     \u001b[38;5;28;01mraise\u001b[39;00m embedded\u001b[38;5;241m.\u001b[39mRRuntimeError(_rinterface\u001b[38;5;241m.\u001b[39m_geterrmessage())\n\u001b[1;32m    193\u001b[0m res \u001b[38;5;241m=\u001b[39m conversion\u001b[38;5;241m.\u001b[39m_cdata_to_rinterface(r_res)\n\u001b[1;32m    194\u001b[0m \u001b[38;5;28;01massert\u001b[39;00m \u001b[38;5;28misinstance\u001b[39m(res, ListSexpVector)\n",
      "\u001b[0;31mRRuntimeError\u001b[0m: Error in scale.data[anchor.features, ] : subscript out of bounds\n"
     ]
    }
   ],
   "source": [
    "ro.r(\"target_data <- PrepSCTIntegration(object.list = target_data, assay='SCT', anchor.features = features)\")"
   ]
  },
  {
   "cell_type": "code",
   "execution_count": 155,
   "id": "acf12153-216b-4ad0-b4b1-8f292bfbb953",
   "metadata": {},
   "outputs": [
    {
     "name": "stderr",
     "output_type": "stream",
     "text": [
      "R[write to console]: Centering and scaling data matrix\n",
      "\n",
      "  |                                                                            \n",
      "  |                                                                      |   0%\n",
      "  |                                                                            \n",
      "  |===================================                                   |  50%\n",
      "  |                                                                            \n",
      "  |======================================================================| 100%\n",
      "R[write to console]: \n",
      "\n",
      "R[write to console]: Centering and scaling data matrix\n",
      "\n",
      "  |                                                                            \n",
      "  |                                                                      |   0%\n",
      "  |                                                                            \n",
      "  |===================================                                   |  50%\n",
      "  |                                                                            \n",
      "  |======================================================================| 100%\n",
      "R[write to console]: \n",
      "\n"
     ]
    }
   ],
   "source": [
    "ro.r(\"adata <- lapply(adata, function(x) ScaleData(x))\")"
   ]
  },
  {
   "cell_type": "code",
   "execution_count": 156,
   "id": "be041883-504d-46c0-bbf8-5e69c8b21b37",
   "metadata": {
    "scrolled": true
   },
   "outputs": [
    {
     "name": "stderr",
     "output_type": "stream",
     "text": [
      "R[write to console]: PC_ 1 \n",
      "Positive:  ENSG00000152518, ENSG00000133872, ENSG00000110848, ENSG00000173762, ENSG00000157514, ENSG00000168685, ENSG00000168028, ENSG00000081237, ENSG00000121966, ENSG00000151883 \n",
      "\t   ENSG00000101596, ENSG00000175061, ENSG00000198755, ENSG00000211772, ENSG00000196405, ENSG00000265972, ENSG00000145675, ENSG00000111796, ENSG00000134539, ENSG00000153563 \n",
      "\t   ENSG00000235576, ENSG00000115875, ENSG00000181163, ENSG00000198851, ENSG00000116824, ENSG00000160593, ENSG00000274020, ENSG00000107742, ENSG00000245910, ENSG00000134242 \n",
      "Negative:  ENSG00000158869, ENSG00000204287, ENSG00000198502, ENSG00000176788, ENSG00000197405, ENSG00000159189, ENSG00000166927, ENSG00000216490, ENSG00000173369, ENSG00000079215 \n",
      "\t   ENSG00000151726, ENSG00000196735, ENSG00000115919, ENSG00000130203, ENSG00000118257, ENSG00000125538, ENSG00000126353, ENSG00000196126, ENSG00000277443, ENSG00000011600 \n",
      "\t   ENSG00000157557, ENSG00000143162, ENSG00000146070, ENSG00000135047, ENSG00000011422, ENSG00000137331, ENSG00000143226, ENSG00000105246, ENSG00000059728, ENSG00000019582 \n",
      "PC_ 2 \n",
      "Positive:  ENSG00000081237, ENSG00000168685, ENSG00000173762, ENSG00000110848, ENSG00000121966, ENSG00000151883, ENSG00000275302, ENSG00000101596, ENSG00000145675, ENSG00000158050 \n",
      "\t   ENSG00000166920, ENSG00000196405, ENSG00000077984, ENSG00000028137, ENSG00000134539, ENSG00000276085, ENSG00000153563, ENSG00000158869, ENSG00000277632, ENSG00000151726 \n",
      "\t   ENSG00000047365, ENSG00000166927, ENSG00000079215, ENSG00000211772, ENSG00000157557, ENSG00000159189, ENSG00000011600, ENSG00000197405, ENSG00000135046, ENSG00000173369 \n",
      "Negative:  ENSG00000132465, ENSG00000239264, ENSG00000099958, ENSG00000211895, ENSG00000211890, ENSG00000170476, ENSG00000164938, ENSG00000211592, ENSG00000166562, ENSG00000211677 \n",
      "\t   ENSG00000211679, ENSG00000167476, ENSG00000180879, ENSG00000211675, ENSG00000051108, ENSG00000178607, ENSG00000168003, ENSG00000116717, ENSG00000206560, ENSG00000152409 \n",
      "\t   ENSG00000211899, ENSG00000211938, ENSG00000211949, ENSG00000044574, ENSG00000026025, ENSG00000211666, ENSG00000211892, ENSG00000211897, ENSG00000211896, ENSG00000100097 \n",
      "PC_ 3 \n",
      "Positive:  ENSG00000178562, ENSG00000163519, ENSG00000102245, ENSG00000109929, ENSG00000230937, ENSG00000112419, ENSG00000149212, ENSG00000101596, ENSG00000153250, ENSG00000168685 \n",
      "\t   ENSG00000142102, ENSG00000114948, ENSG00000245552, ENSG00000163220, ENSG00000124203, ENSG00000074706, ENSG00000245532, ENSG00000070718, ENSG00000163629, ENSG00000133048 \n",
      "\t   ENSG00000197121, ENSG00000114541, ENSG00000080503, ENSG00000144749, ENSG00000115687, ENSG00000135426, ENSG00000112297, ENSG00000215788, ENSG00000138688, ENSG00000135127 \n",
      "Negative:  ENSG00000198840, ENSG00000198712, ENSG00000134539, ENSG00000275302, ENSG00000115523, ENSG00000198886, ENSG00000198763, ENSG00000271503, ENSG00000153563, ENSG00000198899 \n",
      "\t   ENSG00000198727, ENSG00000235576, ENSG00000180644, ENSG00000100453, ENSG00000111640, ENSG00000172116, ENSG00000232112, ENSG00000173762, ENSG00000134545, ENSG00000212907 \n",
      "\t   ENSG00000213809, ENSG00000051523, ENSG00000282885, ENSG00000228253, ENSG00000143184, ENSG00000198888, ENSG00000100450, ENSG00000134242, ENSG00000008517, ENSG00000277632 \n",
      "PC_ 4 \n",
      "Positive:  ENSG00000134539, ENSG00000168298, ENSG00000230937, ENSG00000133048, ENSG00000143546, ENSG00000211890, ENSG00000170476, ENSG00000239264, ENSG00000288859, ENSG00000099958 \n",
      "\t   ENSG00000183542, ENSG00000213809, ENSG00000153563, ENSG00000245532, ENSG00000132465, ENSG00000162366, ENSG00000148346, ENSG00000122566, ENSG00000051108, ENSG00000124575 \n",
      "\t   ENSG00000164327, ENSG00000187837, ENSG00000134545, ENSG00000196754, ENSG00000243649, ENSG00000121716, ENSG00000118849, ENSG00000163220, ENSG00000186081, ENSG00000167978 \n",
      "Negative:  ENSG00000282885, ENSG00000116251, ENSG00000124172, ENSG00000124614, ENSG00000177410, ENSG00000196683, ENSG00000169508, ENSG00000245910, ENSG00000142534, ENSG00000070756 \n",
      "\t   ENSG00000145741, ENSG00000168685, ENSG00000142541, ENSG00000170345, ENSG00000106366, ENSG00000175061, ENSG00000178573, ENSG00000232112, ENSG00000198755, ENSG00000102760 \n",
      "\t   ENSG00000133872, ENSG00000235576, ENSG00000128016, ENSG00000100906, ENSG00000152518, ENSG00000124203, ENSG00000135046, ENSG00000127184, ENSG00000122862, ENSG00000184384 \n",
      "PC_ 5 \n",
      "Positive:  ENSG00000111796, ENSG00000196154, ENSG00000141232, ENSG00000067082, ENSG00000137959, ENSG00000206560, ENSG00000051523, ENSG00000215788, ENSG00000168685, ENSG00000245532 \n",
      "\t   ENSG00000113448, ENSG00000171476, ENSG00000197747, ENSG00000160593, ENSG00000026025, ENSG00000197956, ENSG00000277734, ENSG00000136156, ENSG00000115604, ENSG00000009790 \n",
      "\t   ENSG00000169583, ENSG00000139436, ENSG00000213203, ENSG00000152495, ENSG00000169508, ENSG00000198840, ENSG00000116824, ENSG00000100097, ENSG00000099810, ENSG00000007255 \n",
      "Negative:  ENSG00000256039, ENSG00000211689, ENSG00000130844, ENSG00000151327, ENSG00000077984, ENSG00000140403, ENSG00000158050, ENSG00000204389, ENSG00000227191, ENSG00000135048 \n",
      "\t   ENSG00000120694, ENSG00000109943, ENSG00000143185, ENSG00000153234, ENSG00000134539, ENSG00000173110, ENSG00000030419, ENSG00000115523, ENSG00000164483, ENSG00000177410 \n",
      "\t   ENSG00000176597, ENSG00000164104, ENSG00000144381, ENSG00000087087, ENSG00000120875, ENSG00000007944, ENSG00000074706, ENSG00000136250, ENSG00000090104, ENSG00000077044 \n",
      "\n",
      "R[write to console]: PC_ 1 \n",
      "Positive:  ENSG00000158869, ENSG00000196735, ENSG00000166920, ENSG00000204287, ENSG00000079215, ENSG00000137462, ENSG00000135047, ENSG00000176788, ENSG00000126353, ENSG00000164733 \n",
      "\t   ENSG00000125538, ENSG00000151726, ENSG00000140678, ENSG00000105246, ENSG00000129226, ENSG00000173369, ENSG00000166927, ENSG00000197405, ENSG00000159189, ENSG00000137393 \n",
      "\t   ENSG00000115919, ENSG00000277443, ENSG00000085514, ENSG00000112394, ENSG00000011600, ENSG00000143226, ENSG00000216490, ENSG00000118257, ENSG00000143162, ENSG00000011422 \n",
      "Negative:  ENSG00000081237, ENSG00000101596, ENSG00000173762, ENSG00000164674, ENSG00000151883, ENSG00000152518, ENSG00000166012, ENSG00000138767, ENSG00000010810, ENSG00000069667 \n",
      "\t   ENSG00000096384, ENSG00000069493, ENSG00000132002, ENSG00000101109, ENSG00000078304, ENSG00000164543, ENSG00000115541, ENSG00000204389, ENSG00000020633, ENSG00000134480 \n",
      "\t   ENSG00000143924, ENSG00000115875, ENSG00000204388, ENSG00000080824, ENSG00000134545, ENSG00000121966, ENSG00000120694, ENSG00000111796, ENSG00000141232, ENSG00000197943 \n",
      "PC_ 2 \n",
      "Positive:  ENSG00000204389, ENSG00000204388, ENSG00000120694, ENSG00000132002, ENSG00000080824, ENSG00000115541, ENSG00000197943, ENSG00000173110, ENSG00000106211, ENSG00000149257 \n",
      "\t   ENSG00000116161, ENSG00000162924, ENSG00000212907, ENSG00000110172, ENSG00000122566, ENSG00000120438, ENSG00000123358, ENSG00000198786, ENSG00000086061, ENSG00000100906 \n",
      "\t   ENSG00000162616, ENSG00000153234, ENSG00000196924, ENSG00000062194, ENSG00000136527, ENSG00000096384, ENSG00000173559, ENSG00000116741, ENSG00000198743, ENSG00000169908 \n",
      "Negative:  ENSG00000228474, ENSG00000175061, ENSG00000099622, ENSG00000232112, ENSG00000198258, ENSG00000157514, ENSG00000112695, ENSG00000204592, ENSG00000106803, ENSG00000240972 \n",
      "\t   ENSG00000169100, ENSG00000178982, ENSG00000166562, ENSG00000132465, ENSG00000167283, ENSG00000113811, ENSG00000118816, ENSG00000169567, ENSG00000131143, ENSG00000197989 \n",
      "\t   ENSG00000188612, ENSG00000211895, ENSG00000162191, ENSG00000116209, ENSG00000196262, ENSG00000211890, ENSG00000245910, ENSG00000173726, ENSG00000120742, ENSG00000106153 \n",
      "PC_ 3 \n",
      "Positive:  ENSG00000156467, ENSG00000111640, ENSG00000087086, ENSG00000026025, ENSG00000197747, ENSG00000170315, ENSG00000120742, ENSG00000115541, ENSG00000269893, ENSG00000115165 \n",
      "\t   ENSG00000143184, ENSG00000096384, ENSG00000150991, ENSG00000167283, ENSG00000080824, ENSG00000116161, ENSG00000120438, ENSG00000196683, ENSG00000169567, ENSG00000005022 \n",
      "\t   ENSG00000146278, ENSG00000147604, ENSG00000131143, ENSG00000118680, ENSG00000204389, ENSG00000086061, ENSG00000204388, ENSG00000106211, ENSG00000137876, ENSG00000132002 \n",
      "Negative:  ENSG00000244754, ENSG00000132424, ENSG00000198625, ENSG00000081237, ENSG00000229807, ENSG00000169045, ENSG00000196405, ENSG00000106948, ENSG00000149311, ENSG00000029363 \n",
      "\t   ENSG00000114857, ENSG00000010810, ENSG00000101596, ENSG00000245532, ENSG00000163519, ENSG00000082074, ENSG00000130024, ENSG00000198408, ENSG00000048740, ENSG00000160613 \n",
      "\t   ENSG00000149187, ENSG00000113263, ENSG00000172575, ENSG00000065357, ENSG00000004534, ENSG00000135842, ENSG00000160593, ENSG00000163564, ENSG00000132323, ENSG00000108654 \n",
      "PC_ 4 \n",
      "Positive:  ENSG00000081237, ENSG00000162511, ENSG00000164674, ENSG00000121966, ENSG00000173762, ENSG00000245910, ENSG00000118503, ENSG00000146278, ENSG00000111796, ENSG00000275302 \n",
      "\t   ENSG00000196683, ENSG00000197989, ENSG00000196230, ENSG00000163597, ENSG00000078304, ENSG00000151883, ENSG00000136156, ENSG00000235576, ENSG00000156467, ENSG00000138767 \n",
      "\t   ENSG00000211772, ENSG00000010810, ENSG00000234741, ENSG00000071082, ENSG00000162191, ENSG00000118816, ENSG00000074706, ENSG00000188243, ENSG00000095794, ENSG00000020633 \n",
      "Negative:  ENSG00000132465, ENSG00000211895, ENSG00000211890, ENSG00000239264, ENSG00000211592, ENSG00000011198, ENSG00000211675, ENSG00000164938, ENSG00000165272, ENSG00000116717 \n",
      "\t   ENSG00000124762, ENSG00000273802, ENSG00000211677, ENSG00000180573, ENSG00000165209, ENSG00000186891, ENSG00000166562, ENSG00000143878, ENSG00000211679, ENSG00000180596 \n",
      "\t   ENSG00000245532, ENSG00000276216, ENSG00000025708, ENSG00000211899, ENSG00000270164, ENSG00000051108, ENSG00000211896, ENSG00000197329, ENSG00000206560, ENSG00000165410 \n",
      "PC_ 5 \n",
      "Positive:  ENSG00000173110, ENSG00000265972, ENSG00000162616, ENSG00000149257, ENSG00000132002, ENSG00000151929, ENSG00000106211, ENSG00000204388, ENSG00000204390, ENSG00000232810 \n",
      "\t   ENSG00000116161, ENSG00000178381, ENSG00000188483, ENSG00000120694, ENSG00000096384, ENSG00000107537, ENSG00000116741, ENSG00000099797, ENSG00000087074, ENSG00000214226 \n",
      "\t   ENSG00000150991, ENSG00000158050, ENSG00000115541, ENSG00000160570, ENSG00000163519, ENSG00000080824, ENSG00000130222, ENSG00000204389, ENSG00000099860, ENSG00000186416 \n",
      "Negative:  ENSG00000124575, ENSG00000187837, ENSG00000184897, ENSG00000267519, ENSG00000123146, ENSG00000138670, ENSG00000100650, ENSG00000118503, ENSG00000095397, ENSG00000143384 \n",
      "\t   ENSG00000196924, ENSG00000170144, ENSG00000102760, ENSG00000127314, ENSG00000160789, ENSG00000157514, ENSG00000107968, ENSG00000140575, ENSG00000067167, ENSG00000106153 \n",
      "\t   ENSG00000117139, ENSG00000125740, ENSG00000198668, ENSG00000285410, ENSG00000113811, ENSG00000153234, ENSG00000187239, ENSG00000106803, ENSG00000003402, ENSG00000005483 \n",
      "\n"
     ]
    }
   ],
   "source": [
    "ro.r(\"adata <- lapply(adata, function(x) RunPCA(x, npcs = 30))\")"
   ]
  },
  {
   "cell_type": "code",
   "execution_count": 157,
   "id": "1068ce16-01ba-4fa4-bedb-3b878c7caec5",
   "metadata": {},
   "outputs": [
    {
     "name": "stderr",
     "output_type": "stream",
     "text": [
      "R[write to console]: Warning:\n",
      "R[write to console]:  The following arguments are not used: k.parm\n",
      "\n",
      "R[write to console]: Warning:\n",
      "R[write to console]:  The following arguments are not used: k.parm\n",
      "\n",
      "R[write to console]: Computing nearest neighbor graph\n",
      "\n",
      "R[write to console]: Computing SNN\n",
      "\n",
      "R[write to console]: Warning:\n",
      "R[write to console]:  The following arguments are not used: k.parm\n",
      "\n",
      "R[write to console]: Warning:\n",
      "R[write to console]:  The following arguments are not used: k.parm\n",
      "\n",
      "R[write to console]: Computing nearest neighbor graph\n",
      "\n",
      "R[write to console]: Computing SNN\n",
      "\n"
     ]
    }
   ],
   "source": [
    "ro.r(\"adata <- lapply(adata, function(x) FindNeighbors(x, k.parm = 30))\")"
   ]
  },
  {
   "cell_type": "code",
   "execution_count": 158,
   "id": "ed77772e-5592-4e5d-afe7-c78796b876a8",
   "metadata": {
    "scrolled": true
   },
   "outputs": [
    {
     "name": "stdout",
     "output_type": "stream",
     "text": [
      "Modularity Optimizer version 1.3.0 by Ludo Waltman and Nees Jan van Eck\n",
      "\n",
      "Number of nodes: 977\n",
      "Number of edges: 35625\n",
      "\n",
      "Running Louvain algorithm...\n"
     ]
    },
    {
     "name": "stderr",
     "output_type": "stream",
     "text": [
      "R[write to console]: 0%   10   20   30   40   50   60   70   80   90   100%\n",
      "\n",
      "R[write to console]: [----|----|----|----|----|----|----|----|----|----|\n",
      "\n",
      "R[write to console]: *\n",
      "R[write to console]: *\n",
      "R[write to console]: *\n",
      "R[write to console]: *\n",
      "R[write to console]: *\n",
      "R[write to console]: *\n",
      "R[write to console]: *\n",
      "R[write to console]: *\n",
      "R[write to console]: *\n",
      "R[write to console]: *\n",
      "R[write to console]: *\n",
      "R[write to console]: *\n",
      "R[write to console]: *\n",
      "R[write to console]: *\n",
      "R[write to console]: *\n",
      "R[write to console]: *\n",
      "R[write to console]: *\n",
      "R[write to console]: *\n",
      "R[write to console]: *\n",
      "R[write to console]: *\n",
      "R[write to console]: *\n",
      "R[write to console]: *\n",
      "R[write to console]: *\n",
      "R[write to console]: *\n",
      "R[write to console]: *\n",
      "R[write to console]: *\n",
      "R[write to console]: *\n",
      "R[write to console]: *\n",
      "R[write to console]: *\n",
      "R[write to console]: *\n",
      "R[write to console]: *\n",
      "R[write to console]: *\n",
      "R[write to console]: *\n",
      "R[write to console]: *\n",
      "R[write to console]: *\n",
      "R[write to console]: *\n",
      "R[write to console]: *\n",
      "R[write to console]: *\n",
      "R[write to console]: *\n",
      "R[write to console]: *\n",
      "R[write to console]: *\n",
      "R[write to console]: *\n",
      "R[write to console]: *\n",
      "R[write to console]: *\n",
      "R[write to console]: *\n",
      "R[write to console]: *\n",
      "R[write to console]: *\n",
      "R[write to console]: *\n",
      "R[write to console]: *\n",
      "R[write to console]: *\n",
      "R[write to console]: |\n",
      "\n"
     ]
    },
    {
     "name": "stdout",
     "output_type": "stream",
     "text": [
      "Maximum modularity in 10 random starts: 0.7260\n",
      "Number of communities: 7\n",
      "Elapsed time: 0 seconds\n",
      "Modularity Optimizer version 1.3.0 by Ludo Waltman and Nees Jan van Eck\n",
      "\n",
      "Number of nodes: 1511\n",
      "Number of edges: 52486\n",
      "\n",
      "Running Louvain algorithm...\n"
     ]
    },
    {
     "name": "stderr",
     "output_type": "stream",
     "text": [
      "R[write to console]: 0%   10   20   30   40   50   60   70   80   90   100%\n",
      "\n",
      "R[write to console]: [----|----|----|----|----|----|----|----|----|----|\n",
      "\n",
      "R[write to console]: *\n",
      "R[write to console]: *\n",
      "R[write to console]: *\n",
      "R[write to console]: *\n",
      "R[write to console]: *\n",
      "R[write to console]: *\n",
      "R[write to console]: *\n",
      "R[write to console]: *\n",
      "R[write to console]: *\n",
      "R[write to console]: *\n",
      "R[write to console]: *\n",
      "R[write to console]: *\n",
      "R[write to console]: *\n",
      "R[write to console]: *\n",
      "R[write to console]: *\n",
      "R[write to console]: *\n",
      "R[write to console]: *\n",
      "R[write to console]: *\n",
      "R[write to console]: *\n",
      "R[write to console]: *\n",
      "R[write to console]: *\n",
      "R[write to console]: *\n",
      "R[write to console]: *\n",
      "R[write to console]: *\n",
      "R[write to console]: *\n",
      "R[write to console]: *\n",
      "R[write to console]: *\n",
      "R[write to console]: *\n",
      "R[write to console]: *\n",
      "R[write to console]: *\n",
      "R[write to console]: *\n",
      "R[write to console]: *\n",
      "R[write to console]: *\n",
      "R[write to console]: *\n",
      "R[write to console]: *\n",
      "R[write to console]: *\n",
      "R[write to console]: *\n",
      "R[write to console]: *\n",
      "R[write to console]: *\n",
      "R[write to console]: *\n",
      "R[write to console]: *\n",
      "R[write to console]: *\n",
      "R[write to console]: *\n",
      "R[write to console]: *\n",
      "R[write to console]: *\n",
      "R[write to console]: *\n",
      "R[write to console]: *\n",
      "R[write to console]: *\n",
      "R[write to console]: *\n",
      "R[write to console]: *\n",
      "R[write to console]: |\n",
      "\n"
     ]
    },
    {
     "name": "stdout",
     "output_type": "stream",
     "text": [
      "Maximum modularity in 10 random starts: 0.8409\n",
      "Number of communities: 8\n",
      "Elapsed time: 0 seconds\n"
     ]
    }
   ],
   "source": [
    "ro.r(\"adata <- lapply(adata, function(x) FindClusters(x))\")"
   ]
  },
  {
   "cell_type": "code",
   "execution_count": 159,
   "id": "6fec09a1-e53d-4503-a178-1d3804a6d9ee",
   "metadata": {
    "scrolled": true
   },
   "outputs": [
    {
     "name": "stderr",
     "output_type": "stream",
     "text": [
      "R[write to console]: 04:27:32 UMAP embedding parameters a = 0.9922 b = 1.112\n",
      "\n",
      "R[write to console]: 04:27:32 Read 977 rows and found 30 numeric columns\n",
      "\n",
      "R[write to console]: 04:27:32 Using Annoy for neighbor search, n_neighbors = 30\n",
      "\n",
      "R[write to console]: 04:27:32 Building Annoy index with metric = cosine, n_trees = 50\n",
      "\n",
      "R[write to console]: 0%   10   20   30   40   50   60   70   80   90   100%\n",
      "\n",
      "R[write to console]: [----|----|----|----|----|----|----|----|----|----|\n",
      "\n",
      "R[write to console]: *\n",
      "R[write to console]: *\n",
      "R[write to console]: *\n",
      "R[write to console]: *\n",
      "R[write to console]: *\n",
      "R[write to console]: *\n",
      "R[write to console]: *\n",
      "R[write to console]: *\n",
      "R[write to console]: *\n",
      "R[write to console]: *\n",
      "R[write to console]: *\n",
      "R[write to console]: *\n",
      "R[write to console]: *\n",
      "R[write to console]: *\n",
      "R[write to console]: *\n",
      "R[write to console]: *\n",
      "R[write to console]: *\n",
      "R[write to console]: *\n",
      "R[write to console]: *\n",
      "R[write to console]: *\n",
      "R[write to console]: *\n",
      "R[write to console]: *\n",
      "R[write to console]: *\n",
      "R[write to console]: *\n",
      "R[write to console]: *\n",
      "R[write to console]: *\n",
      "R[write to console]: *\n",
      "R[write to console]: *\n",
      "R[write to console]: *\n",
      "R[write to console]: *\n",
      "R[write to console]: *\n",
      "R[write to console]: *\n",
      "R[write to console]: *\n",
      "R[write to console]: *\n",
      "R[write to console]: *\n",
      "R[write to console]: *\n",
      "R[write to console]: *\n",
      "R[write to console]: *\n",
      "R[write to console]: *\n",
      "R[write to console]: *\n",
      "R[write to console]: *\n",
      "R[write to console]: *\n",
      "R[write to console]: *\n",
      "R[write to console]: *\n",
      "R[write to console]: *\n",
      "R[write to console]: *\n",
      "R[write to console]: *\n",
      "R[write to console]: *\n",
      "R[write to console]: *\n",
      "R[write to console]: *\n",
      "R[write to console]: |\n",
      "\n",
      "R[write to console]: 04:27:32 Writing NN index file to temp file /tmp/RtmpNtQqxN/file88e30f5518c2\n",
      "\n",
      "R[write to console]: 04:27:32 Searching Annoy index using 1 thread, search_k = 3000\n",
      "\n",
      "R[write to console]: 04:27:33 Annoy recall = 100%\n",
      "\n",
      "R[write to console]: 04:27:33 Commencing smooth kNN distance calibration using 1 thread\n",
      "R[write to console]:  with target n_neighbors = 30\n",
      "\n",
      "R[write to console]: 04:27:35 Initializing from normalized Laplacian + noise (using RSpectra)\n",
      "\n",
      "R[write to console]: 04:27:35 Commencing optimization for 500 epochs, with 35834 positive edges\n",
      "\n",
      "R[write to console]: Using method '\n",
      "R[write to console]: umap\n",
      "R[write to console]: '\n",
      "R[write to console]: \n",
      "\n",
      "R[write to console]: 0%   10   20   30   40   50   60   70   80   90   100%\n",
      "\n",
      "R[write to console]: [----|----|----|----|----|----|----|----|----|----|\n",
      "\n",
      "R[write to console]: *\n",
      "R[write to console]: *\n",
      "R[write to console]: *\n",
      "R[write to console]: *\n",
      "R[write to console]: *\n",
      "R[write to console]: *\n",
      "R[write to console]: *\n",
      "R[write to console]: *\n",
      "R[write to console]: *\n",
      "R[write to console]: *\n",
      "R[write to console]: *\n",
      "R[write to console]: *\n",
      "R[write to console]: *\n",
      "R[write to console]: *\n",
      "R[write to console]: *\n",
      "R[write to console]: *\n",
      "R[write to console]: *\n",
      "R[write to console]: *\n",
      "R[write to console]: *\n",
      "R[write to console]: *\n",
      "R[write to console]: *\n",
      "R[write to console]: *\n",
      "R[write to console]: *\n",
      "R[write to console]: *\n",
      "R[write to console]: *\n",
      "R[write to console]: *\n",
      "R[write to console]: *\n",
      "R[write to console]: *\n",
      "R[write to console]: *\n",
      "R[write to console]: *\n",
      "R[write to console]: *\n",
      "R[write to console]: *\n",
      "R[write to console]: *\n",
      "R[write to console]: *\n",
      "R[write to console]: *\n",
      "R[write to console]: *\n",
      "R[write to console]: *\n",
      "R[write to console]: *\n",
      "R[write to console]: *\n",
      "R[write to console]: *\n",
      "R[write to console]: *\n",
      "R[write to console]: *\n",
      "R[write to console]: *\n",
      "R[write to console]: *\n",
      "R[write to console]: *\n",
      "R[write to console]: *\n",
      "R[write to console]: *\n",
      "R[write to console]: *\n",
      "R[write to console]: *\n",
      "R[write to console]: *\n",
      "R[write to console]: |\n",
      "\n",
      "R[write to console]: 04:27:36 Optimization finished\n",
      "\n",
      "R[write to console]: 04:27:37 UMAP embedding parameters a = 0.9922 b = 1.112\n",
      "\n",
      "R[write to console]: 04:27:37 Read 1511 rows and found 30 numeric columns\n",
      "\n",
      "R[write to console]: 04:27:37 Using Annoy for neighbor search, n_neighbors = 30\n",
      "\n",
      "R[write to console]: 04:27:37 Building Annoy index with metric = cosine, n_trees = 50\n",
      "\n",
      "R[write to console]: 0%   10   20   30   40   50   60   70   80   90   100%\n",
      "\n",
      "R[write to console]: [----|----|----|----|----|----|----|----|----|----|\n",
      "\n",
      "R[write to console]: *\n",
      "R[write to console]: *\n",
      "R[write to console]: *\n",
      "R[write to console]: *\n",
      "R[write to console]: *\n",
      "R[write to console]: *\n",
      "R[write to console]: *\n",
      "R[write to console]: *\n",
      "R[write to console]: *\n",
      "R[write to console]: *\n",
      "R[write to console]: *\n",
      "R[write to console]: *\n",
      "R[write to console]: *\n",
      "R[write to console]: *\n",
      "R[write to console]: *\n",
      "R[write to console]: *\n",
      "R[write to console]: *\n",
      "R[write to console]: *\n",
      "R[write to console]: *\n",
      "R[write to console]: *\n",
      "R[write to console]: *\n",
      "R[write to console]: *\n",
      "R[write to console]: *\n",
      "R[write to console]: *\n",
      "R[write to console]: *\n",
      "R[write to console]: *\n",
      "R[write to console]: *\n",
      "R[write to console]: *\n",
      "R[write to console]: *\n",
      "R[write to console]: *\n",
      "R[write to console]: *\n",
      "R[write to console]: *\n",
      "R[write to console]: *\n",
      "R[write to console]: *\n",
      "R[write to console]: *\n",
      "R[write to console]: *\n",
      "R[write to console]: *\n",
      "R[write to console]: *\n",
      "R[write to console]: *\n",
      "R[write to console]: *\n",
      "R[write to console]: *\n",
      "R[write to console]: *\n",
      "R[write to console]: *\n",
      "R[write to console]: *\n",
      "R[write to console]: *\n",
      "R[write to console]: *\n",
      "R[write to console]: *\n",
      "R[write to console]: *\n",
      "R[write to console]: *\n",
      "R[write to console]: *\n",
      "R[write to console]: |\n",
      "\n",
      "R[write to console]: 04:27:37 Writing NN index file to temp file /tmp/RtmpNtQqxN/file88e30723e7e2a\n",
      "\n",
      "R[write to console]: 04:27:37 Searching Annoy index using 1 thread, search_k = 3000\n",
      "\n",
      "R[write to console]: 04:27:37 Annoy recall = 100%\n",
      "\n",
      "R[write to console]: 04:27:38 Commencing smooth kNN distance calibration using 1 thread\n",
      "R[write to console]:  with target n_neighbors = 30\n",
      "\n",
      "R[write to console]: 04:27:39 Initializing from normalized Laplacian + noise (using RSpectra)\n",
      "\n",
      "R[write to console]: 04:27:39 Commencing optimization for 500 epochs, with 62726 positive edges\n",
      "\n",
      "R[write to console]: Using method '\n",
      "R[write to console]: umap\n",
      "R[write to console]: '\n",
      "R[write to console]: \n",
      "\n",
      "R[write to console]: 0%   10   20   30   40   50   60   70   80   90   100%\n",
      "\n",
      "R[write to console]: [----|----|----|----|----|----|----|----|----|----|\n",
      "\n",
      "R[write to console]: *\n",
      "R[write to console]: *\n",
      "R[write to console]: *\n",
      "R[write to console]: *\n",
      "R[write to console]: *\n",
      "R[write to console]: *\n",
      "R[write to console]: *\n",
      "R[write to console]: *\n",
      "R[write to console]: *\n",
      "R[write to console]: *\n",
      "R[write to console]: *\n",
      "R[write to console]: *\n",
      "R[write to console]: *\n",
      "R[write to console]: *\n",
      "R[write to console]: *\n",
      "R[write to console]: *\n",
      "R[write to console]: *\n",
      "R[write to console]: *\n",
      "R[write to console]: *\n",
      "R[write to console]: *\n",
      "R[write to console]: *\n",
      "R[write to console]: *\n",
      "R[write to console]: *\n",
      "R[write to console]: *\n",
      "R[write to console]: *\n",
      "R[write to console]: *\n",
      "R[write to console]: *\n",
      "R[write to console]: *\n",
      "R[write to console]: *\n",
      "R[write to console]: *\n",
      "R[write to console]: *\n",
      "R[write to console]: *\n",
      "R[write to console]: *\n",
      "R[write to console]: *\n",
      "R[write to console]: *\n",
      "R[write to console]: *\n",
      "R[write to console]: *\n",
      "R[write to console]: *\n",
      "R[write to console]: *\n",
      "R[write to console]: *\n",
      "R[write to console]: *\n",
      "R[write to console]: *\n",
      "R[write to console]: *\n",
      "R[write to console]: *\n",
      "R[write to console]: *\n",
      "R[write to console]: *\n",
      "R[write to console]: *\n",
      "R[write to console]: *\n",
      "R[write to console]: *\n",
      "R[write to console]: *\n",
      "R[write to console]: |\n",
      "\n",
      "R[write to console]: 04:27:41 Optimization finished\n",
      "\n"
     ]
    }
   ],
   "source": [
    "ro.r(\"adata <- lapply(adata, function(x) RunUMAP(x, dims = 1:30))\")"
   ]
  },
  {
   "cell_type": "code",
   "execution_count": 160,
   "id": "d9ca02c8-1797-4f19-b1c6-dcfe2f166e6d",
   "metadata": {},
   "outputs": [],
   "source": [
    "ro.r(\"int_feats <- SelectIntegrationFeatures(adata)\")"
   ]
  },
  {
   "cell_type": "code",
   "execution_count": 161,
   "id": "f6272acf-bdef-4d1e-9a28-7de85669aba6",
   "metadata": {},
   "outputs": [
    {
     "name": "stdout",
     "output_type": "stream",
     "text": [
      "$data1\n",
      "An object of class Seurat \n",
      "46463 features across 977 samples within 2 assays \n",
      "Active assay: SCT (12008 features, 2000 variable features)\n",
      " 3 layers present: counts, data, scale.data\n",
      " 1 other assay present: originalexp\n",
      " 4 dimensional reductions calculated: X_scVI, UMAP, pca, umap\n",
      "\n",
      "$data2\n",
      "An object of class Seurat \n",
      "47704 features across 1511 samples within 2 assays \n",
      "Active assay: SCT (13249 features, 2000 variable features)\n",
      " 3 layers present: counts, data, scale.data\n",
      " 1 other assay present: originalexp\n",
      " 4 dimensional reductions calculated: X_scVI, UMAP, pca, umap\n",
      "\n"
     ]
    }
   ],
   "source": [
    "ro.r(\"print(adata)\")"
   ]
  },
  {
   "cell_type": "code",
   "execution_count": 162,
   "id": "fe27a0de-dc6d-42e0-9d52-099bd798b3e9",
   "metadata": {
    "scrolled": true
   },
   "outputs": [
    {
     "name": "stdout",
     "output_type": "stream",
     "text": [
      "  |                                                  | 0 % ~calculating  "
     ]
    },
    {
     "name": "stderr",
     "output_type": "stream",
     "text": [
      "R[write to console]: Error in scale.data[anchor.features, ] : subscript out of bounds\n",
      "\n"
     ]
    },
    {
     "name": "stdout",
     "output_type": "stream",
     "text": [
      "\n"
     ]
    },
    {
     "ename": "RRuntimeError",
     "evalue": "Error in scale.data[anchor.features, ] : subscript out of bounds\n",
     "output_type": "error",
     "traceback": [
      "\u001b[0;31m---------------------------------------------------------------------------\u001b[0m",
      "\u001b[0;31mRRuntimeError\u001b[0m                             Traceback (most recent call last)",
      "Cell \u001b[0;32mIn[162], line 1\u001b[0m\n\u001b[0;32m----> 1\u001b[0m \u001b[43mro\u001b[49m\u001b[38;5;241;43m.\u001b[39;49m\u001b[43mr\u001b[49m\u001b[43m(\u001b[49m\u001b[38;5;124;43m\"\u001b[39;49m\u001b[38;5;124;43mint_list <- PrepSCTIntegration(object.list = adata, anchor.features = int_feats, verbose=T)\u001b[39;49m\u001b[38;5;124;43m\"\u001b[39;49m\u001b[43m)\u001b[49m\n",
      "File \u001b[0;32m~/.conda/envs/python3.8/lib/python3.10/site-packages/rpy2/robjects/__init__.py:509\u001b[0m, in \u001b[0;36mR.__call__\u001b[0;34m(self, string, invisible, print_r_warnings)\u001b[0m\n\u001b[1;32m    507\u001b[0m     invisible \u001b[38;5;241m=\u001b[39m \u001b[38;5;28mself\u001b[39m\u001b[38;5;241m.\u001b[39m_invisible\n\u001b[1;32m    508\u001b[0m \u001b[38;5;28;01mif\u001b[39;00m invisible:\n\u001b[0;32m--> 509\u001b[0m     res, visible \u001b[38;5;241m=\u001b[39m \u001b[43mrinterface\u001b[49m\u001b[38;5;241;43m.\u001b[39;49m\u001b[43mevalr_expr_with_visible\u001b[49m\u001b[43m(\u001b[49m\u001b[43m   \u001b[49m\u001b[38;5;66;43;03m# type: ignore\u001b[39;49;00m\n\u001b[1;32m    510\u001b[0m \u001b[43m        \u001b[49m\u001b[43mr_expr\u001b[49m\n\u001b[1;32m    511\u001b[0m \u001b[43m    \u001b[49m\u001b[43m)\u001b[49m\n\u001b[1;32m    512\u001b[0m     \u001b[38;5;28;01mif\u001b[39;00m \u001b[38;5;129;01mnot\u001b[39;00m visible[\u001b[38;5;241m0\u001b[39m]:  \u001b[38;5;66;03m# type: ignore\u001b[39;00m\n\u001b[1;32m    513\u001b[0m         res \u001b[38;5;241m=\u001b[39m \u001b[38;5;28;01mNone\u001b[39;00m\n",
      "File \u001b[0;32m~/.conda/envs/python3.8/lib/python3.10/site-packages/rpy2/rinterface.py:192\u001b[0m, in \u001b[0;36mevalr_expr_with_visible\u001b[0;34m(expr, envir)\u001b[0m\n\u001b[1;32m    185\u001b[0m r_res \u001b[38;5;241m=\u001b[39m rmemory\u001b[38;5;241m.\u001b[39mprotect(\n\u001b[1;32m    186\u001b[0m         openrlib\u001b[38;5;241m.\u001b[39mrlib\u001b[38;5;241m.\u001b[39mR_tryEval(\n\u001b[1;32m    187\u001b[0m             r_call,\n\u001b[1;32m    188\u001b[0m             envir\u001b[38;5;241m.\u001b[39m__sexp__\u001b[38;5;241m.\u001b[39m_cdata,  \u001b[38;5;66;03m# call context.\u001b[39;00m\n\u001b[1;32m    189\u001b[0m             error_occured)\n\u001b[1;32m    190\u001b[0m )\n\u001b[1;32m    191\u001b[0m \u001b[38;5;28;01mif\u001b[39;00m error_occured[\u001b[38;5;241m0\u001b[39m]:\n\u001b[0;32m--> 192\u001b[0m     \u001b[38;5;28;01mraise\u001b[39;00m embedded\u001b[38;5;241m.\u001b[39mRRuntimeError(_rinterface\u001b[38;5;241m.\u001b[39m_geterrmessage())\n\u001b[1;32m    193\u001b[0m res \u001b[38;5;241m=\u001b[39m conversion\u001b[38;5;241m.\u001b[39m_cdata_to_rinterface(r_res)\n\u001b[1;32m    194\u001b[0m \u001b[38;5;28;01massert\u001b[39;00m \u001b[38;5;28misinstance\u001b[39m(res, ListSexpVector)\n",
      "\u001b[0;31mRRuntimeError\u001b[0m: Error in scale.data[anchor.features, ] : subscript out of bounds\n"
     ]
    }
   ],
   "source": [
    "ro.r(\"int_list <- PrepSCTIntegration(object.list = adata, anchor.features = int_feats, verbose=T)\")"
   ]
  },
  {
   "cell_type": "code",
   "execution_count": null,
   "id": "ed6b2d99-6638-4559-953f-45fb2679df43",
   "metadata": {},
   "outputs": [],
   "source": [
    "int_feats <- SelectIntegrationFeatures(seurat_objs)\n",
    "int_list <- PrepSCTIntegration(object.list = seurat_objs,\n",
    "                               anchor.features = int_feats)\n",
    "int_anchors <- FindIntegrationAnchors(object.list = int_list,\n",
    "                                      normalization.method = \"SCT\",\n",
    "                                      anchor.features = int_feats)\n",
    "cca <- IntegrateData(anchorset = int_anchors,\n",
    "                     normalization.method = \"SCT\")\n",
    "remove(int_anchors, int_list, int_feats)\n",
    "cca <- cca %>%\n",
    "  RunPCA(verbose = FALSE) %>%\n",
    "  FindNeighbors(dims = 1:30) %>%\n",
    "  RunUMAP(dims = 1:30) %>%\n",
    "  FindClusters()\n",
    "resolution.range <- seq(from = 0, to = 1, by = 0.1)\n",
    "cca <- FindClusters(cca, resolution = resolution.range)\n",
    "tree <- clustree(cca)\n",
    "cca <- FindClusters(cca, resolution = 0.3)"
   ]
  }
 ],
 "metadata": {
  "kernelspec": {
   "display_name": "python3.8",
   "language": "python",
   "name": "python3.8"
  },
  "language_info": {
   "codemirror_mode": {
    "name": "ipython",
    "version": 3
   },
   "file_extension": ".py",
   "mimetype": "text/x-python",
   "name": "python",
   "nbconvert_exporter": "python",
   "pygments_lexer": "ipython3",
   "version": "3.10.14"
  }
 },
 "nbformat": 4,
 "nbformat_minor": 5
}
