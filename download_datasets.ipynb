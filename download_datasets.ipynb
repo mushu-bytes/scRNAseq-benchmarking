{
 "cells": [
  {
   "cell_type": "code",
   "execution_count": 5,
   "id": "40249b16-e335-4960-a4a2-d0acb058e57d",
   "metadata": {},
   "outputs": [],
   "source": [
    "import requests"
   ]
  },
  {
   "cell_type": "markdown",
   "id": "52c1ff1a-5998-4ff8-b024-4c4d1094f883",
   "metadata": {},
   "source": [
    "# Downloading ann data"
   ]
  },
  {
   "cell_type": "code",
   "execution_count": 8,
   "id": "a3425378-93f0-49ec-95ac-23a5f93a0224",
   "metadata": {},
   "outputs": [],
   "source": [
    "epithelial = \"/mnt/shared/nationwide/brca/epithelial.h5ad\""
   ]
  },
  {
   "cell_type": "code",
   "execution_count": 9,
   "id": "e9ba4167-ae58-4067-a05f-9d1b5c46cd5f",
   "metadata": {},
   "outputs": [],
   "source": [
    "response = requests.get(\"https://datasets.cellxgene.cziscience.com/4c2f72fb-81f0-4215-8409-143c8932a15d.h5ad\")\n",
    "with open(epithelial, 'wb') as f:\n",
    "    f.write(response.content)"
   ]
  },
  {
   "cell_type": "code",
   "execution_count": 10,
   "id": "9ab99703-3d9e-44cb-806b-9e7ba301d76c",
   "metadata": {},
   "outputs": [],
   "source": [
    "stroma = \"/mnt/shared/nationwide/brca/stroma.h5ad\""
   ]
  },
  {
   "cell_type": "code",
   "execution_count": 11,
   "id": "921ebca4-c8a3-4147-b9bc-d67243d5eaa9",
   "metadata": {},
   "outputs": [],
   "source": [
    "response = requests.get(\"https://datasets.cellxgene.cziscience.com/0b158a5d-74aa-49d0-99ff-4aa1173dbeea.h5ad\")\n",
    "with open(stroma, 'wb') as f:\n",
    "    f.write(response.content)"
   ]
  },
  {
   "cell_type": "markdown",
   "id": "256a1b91-8fc5-4bea-beaa-ea4cd3c23eea",
   "metadata": {},
   "source": [
    "# Downloading R Data"
   ]
  },
  {
   "cell_type": "code",
   "execution_count": null,
   "id": "6b05c6a6-36e0-4579-b7f4-a116b0ec4b1e",
   "metadata": {},
   "outputs": [],
   "source": [
    "epithelialR = \"/mnt/shared/nationwide/brca/epithelial.rds\"\n",
    "response = requests.get(\"https://datasets.cellxgene.cziscience.com/4c2f72fb-81f0-4215-8409-143c8932a15d.rds\")\n",
    "with open(epithelialR, 'wb') as f:\n",
    "    f.write(response.content)"
   ]
  },
  {
   "cell_type": "code",
   "execution_count": 15,
   "id": "0ba27af5-2012-4334-883f-33f8923c36c2",
   "metadata": {},
   "outputs": [],
   "source": [
    "stromaR = \"/mnt/shared/nationwide/brca/stroma.rds\"\n",
    "response = requests.get(\"https://datasets.cellxgene.cziscience.com/0b158a5d-74aa-49d0-99ff-4aa1173dbeea.rds\")\n",
    "with open(stromaR, 'wb') as f:\n",
    "    f.write(response.content)"
   ]
  },
  {
   "cell_type": "markdown",
   "id": "889aec5e-b2bf-4e54-acd9-4e92628c7b86",
   "metadata": {},
   "source": [
    "# Downloading Mouse Data"
   ]
  },
  {
   "cell_type": "code",
   "execution_count": 16,
   "id": "9d95f104-2f48-470c-b60e-70433208e720",
   "metadata": {},
   "outputs": [],
   "source": [
    "basal = \"/mnt/shared/nationwide/brca/basal.h5ad\"\n",
    "mcc = \"/mnt/shared/nationwide/brca/mcc.h5ad\"\n",
    "response = requests.get(\"https://datasets.cellxgene.cziscience.com/f48dfd61-b99c-461c-bd26-54de8f9c17df.h5ad\")\n",
    "with open(basal, 'wb') as f:\n",
    "    f.write(response.content)\n",
    "\n",
    "response = requests.get(\"https://datasets.cellxgene.cziscience.com/f48dfd61-b99c-461c-bd26-54de8f9c17df.h5ad\")\n",
    "with open(mcc, 'wb') as f:\n",
    "    f.write(response.content)"
   ]
  },
  {
   "cell_type": "code",
   "execution_count": 17,
   "id": "65ec2fca-63a6-4511-99f0-a4c5a6011149",
   "metadata": {},
   "outputs": [],
   "source": [
    "basalR = \"/mnt/shared/nationwide/brca/basal.rds\"\n",
    "mccR = \"/mnt/shared/nationwide/brca/mcc.rds\"\n",
    "response = requests.get(\"https://datasets.cellxgene.cziscience.com/f48dfd61-b99c-461c-bd26-54de8f9c17df.rds\")\n",
    "with open(basalR, 'wb') as f:\n",
    "    f.write(response.content)\n",
    "\n",
    "response = requests.get(\"https://datasets.cellxgene.cziscience.com/f48dfd61-b99c-461c-bd26-54de8f9c17df.rds\")\n",
    "with open(mccR, 'wb') as f:\n",
    "    f.write(response.content)"
   ]
  }
 ],
 "metadata": {
  "kernelspec": {
   "display_name": "scRNAseq",
   "language": "python",
   "name": "scrnaseq"
  },
  "language_info": {
   "codemirror_mode": {
    "name": "ipython",
    "version": 3
   },
   "file_extension": ".py",
   "mimetype": "text/x-python",
   "name": "python",
   "nbconvert_exporter": "python",
   "pygments_lexer": "ipython3",
   "version": "3.12.2"
  }
 },
 "nbformat": 4,
 "nbformat_minor": 5
}
