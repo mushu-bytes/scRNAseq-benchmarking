{
 "cells": [
  {
   "cell_type": "code",
   "execution_count": 5,
   "id": "40249b16-e335-4960-a4a2-d0acb058e57d",
   "metadata": {},
   "outputs": [],
   "source": [
    "import requests"
   ]
  },
  {
   "cell_type": "code",
   "execution_count": 8,
   "id": "a3425378-93f0-49ec-95ac-23a5f93a0224",
   "metadata": {},
   "outputs": [],
   "source": [
    "epithelial = \"/mnt/shared/nationwide/brca/epithelial.h5ad\""
   ]
  },
  {
   "cell_type": "code",
   "execution_count": 9,
   "id": "e9ba4167-ae58-4067-a05f-9d1b5c46cd5f",
   "metadata": {},
   "outputs": [],
   "source": [
    "response = requests.get(\"https://datasets.cellxgene.cziscience.com/4c2f72fb-81f0-4215-8409-143c8932a15d.h5ad\")\n",
    "with open(epithelial, 'wb') as f:\n",
    "    f.write(response.content)"
   ]
  },
  {
   "cell_type": "code",
   "execution_count": 10,
   "id": "9ab99703-3d9e-44cb-806b-9e7ba301d76c",
   "metadata": {},
   "outputs": [],
   "source": [
    "stroma = \"/mnt/shared/nationwide/brca/stroma.h5ad\""
   ]
  },
  {
   "cell_type": "code",
   "execution_count": 11,
   "id": "921ebca4-c8a3-4147-b9bc-d67243d5eaa9",
   "metadata": {},
   "outputs": [],
   "source": [
    "response = requests.get(\"https://datasets.cellxgene.cziscience.com/0b158a5d-74aa-49d0-99ff-4aa1173dbeea.h5ad\")\n",
    "with open(stroma, 'wb') as f:\n",
    "    f.write(response.content)"
   ]
  }
 ],
 "metadata": {
  "kernelspec": {
   "display_name": "scRNAseq",
   "language": "python",
   "name": "scrnaseq"
  },
  "language_info": {
   "codemirror_mode": {
    "name": "ipython",
    "version": 3
   },
   "file_extension": ".py",
   "mimetype": "text/x-python",
   "name": "python",
   "nbconvert_exporter": "python",
   "pygments_lexer": "ipython3",
   "version": "3.12.2"
  }
 },
 "nbformat": 4,
 "nbformat_minor": 5
}
